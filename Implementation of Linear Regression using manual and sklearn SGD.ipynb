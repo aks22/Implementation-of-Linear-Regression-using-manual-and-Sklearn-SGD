{
 "cells": [
  {
   "cell_type": "code",
   "execution_count": 78,
   "metadata": {},
   "outputs": [],
   "source": [
    "from sklearn.datasets import load_boston\n",
    "import pandas as pd"
   ]
  },
  {
   "cell_type": "code",
   "execution_count": 79,
   "metadata": {},
   "outputs": [],
   "source": [
    "boston = load_boston()"
   ]
  },
  {
   "cell_type": "code",
   "execution_count": 80,
   "metadata": {},
   "outputs": [
    {
     "data": {
      "text/html": [
       "<div>\n",
       "<style scoped>\n",
       "    .dataframe tbody tr th:only-of-type {\n",
       "        vertical-align: middle;\n",
       "    }\n",
       "\n",
       "    .dataframe tbody tr th {\n",
       "        vertical-align: top;\n",
       "    }\n",
       "\n",
       "    .dataframe thead th {\n",
       "        text-align: right;\n",
       "    }\n",
       "</style>\n",
       "<table border=\"1\" class=\"dataframe\">\n",
       "  <thead>\n",
       "    <tr style=\"text-align: right;\">\n",
       "      <th></th>\n",
       "      <th>0</th>\n",
       "      <th>1</th>\n",
       "      <th>2</th>\n",
       "      <th>3</th>\n",
       "      <th>4</th>\n",
       "      <th>5</th>\n",
       "      <th>6</th>\n",
       "      <th>7</th>\n",
       "      <th>8</th>\n",
       "      <th>9</th>\n",
       "      <th>10</th>\n",
       "      <th>11</th>\n",
       "      <th>12</th>\n",
       "    </tr>\n",
       "  </thead>\n",
       "  <tbody>\n",
       "    <tr>\n",
       "      <th>0</th>\n",
       "      <td>0.00632</td>\n",
       "      <td>18.0</td>\n",
       "      <td>2.31</td>\n",
       "      <td>0.0</td>\n",
       "      <td>0.538</td>\n",
       "      <td>6.575</td>\n",
       "      <td>65.2</td>\n",
       "      <td>4.0900</td>\n",
       "      <td>1.0</td>\n",
       "      <td>296.0</td>\n",
       "      <td>15.3</td>\n",
       "      <td>396.90</td>\n",
       "      <td>4.98</td>\n",
       "    </tr>\n",
       "    <tr>\n",
       "      <th>1</th>\n",
       "      <td>0.02731</td>\n",
       "      <td>0.0</td>\n",
       "      <td>7.07</td>\n",
       "      <td>0.0</td>\n",
       "      <td>0.469</td>\n",
       "      <td>6.421</td>\n",
       "      <td>78.9</td>\n",
       "      <td>4.9671</td>\n",
       "      <td>2.0</td>\n",
       "      <td>242.0</td>\n",
       "      <td>17.8</td>\n",
       "      <td>396.90</td>\n",
       "      <td>9.14</td>\n",
       "    </tr>\n",
       "    <tr>\n",
       "      <th>2</th>\n",
       "      <td>0.02729</td>\n",
       "      <td>0.0</td>\n",
       "      <td>7.07</td>\n",
       "      <td>0.0</td>\n",
       "      <td>0.469</td>\n",
       "      <td>7.185</td>\n",
       "      <td>61.1</td>\n",
       "      <td>4.9671</td>\n",
       "      <td>2.0</td>\n",
       "      <td>242.0</td>\n",
       "      <td>17.8</td>\n",
       "      <td>392.83</td>\n",
       "      <td>4.03</td>\n",
       "    </tr>\n",
       "    <tr>\n",
       "      <th>3</th>\n",
       "      <td>0.03237</td>\n",
       "      <td>0.0</td>\n",
       "      <td>2.18</td>\n",
       "      <td>0.0</td>\n",
       "      <td>0.458</td>\n",
       "      <td>6.998</td>\n",
       "      <td>45.8</td>\n",
       "      <td>6.0622</td>\n",
       "      <td>3.0</td>\n",
       "      <td>222.0</td>\n",
       "      <td>18.7</td>\n",
       "      <td>394.63</td>\n",
       "      <td>2.94</td>\n",
       "    </tr>\n",
       "    <tr>\n",
       "      <th>4</th>\n",
       "      <td>0.06905</td>\n",
       "      <td>0.0</td>\n",
       "      <td>2.18</td>\n",
       "      <td>0.0</td>\n",
       "      <td>0.458</td>\n",
       "      <td>7.147</td>\n",
       "      <td>54.2</td>\n",
       "      <td>6.0622</td>\n",
       "      <td>3.0</td>\n",
       "      <td>222.0</td>\n",
       "      <td>18.7</td>\n",
       "      <td>396.90</td>\n",
       "      <td>5.33</td>\n",
       "    </tr>\n",
       "  </tbody>\n",
       "</table>\n",
       "</div>"
      ],
      "text/plain": [
       "        0     1     2    3      4      5     6       7    8      9     10  \\\n",
       "0  0.00632  18.0  2.31  0.0  0.538  6.575  65.2  4.0900  1.0  296.0  15.3   \n",
       "1  0.02731   0.0  7.07  0.0  0.469  6.421  78.9  4.9671  2.0  242.0  17.8   \n",
       "2  0.02729   0.0  7.07  0.0  0.469  7.185  61.1  4.9671  2.0  242.0  17.8   \n",
       "3  0.03237   0.0  2.18  0.0  0.458  6.998  45.8  6.0622  3.0  222.0  18.7   \n",
       "4  0.06905   0.0  2.18  0.0  0.458  7.147  54.2  6.0622  3.0  222.0  18.7   \n",
       "\n",
       "       11    12  \n",
       "0  396.90  4.98  \n",
       "1  396.90  9.14  \n",
       "2  392.83  4.03  \n",
       "3  394.63  2.94  \n",
       "4  396.90  5.33  "
      ]
     },
     "execution_count": 80,
     "metadata": {},
     "output_type": "execute_result"
    }
   ],
   "source": [
    "df = pd.DataFrame(boston.data)\n",
    "df.head()"
   ]
  },
  {
   "cell_type": "code",
   "execution_count": 81,
   "metadata": {},
   "outputs": [
    {
     "data": {
      "text/html": [
       "<div>\n",
       "<style scoped>\n",
       "    .dataframe tbody tr th:only-of-type {\n",
       "        vertical-align: middle;\n",
       "    }\n",
       "\n",
       "    .dataframe tbody tr th {\n",
       "        vertical-align: top;\n",
       "    }\n",
       "\n",
       "    .dataframe thead th {\n",
       "        text-align: right;\n",
       "    }\n",
       "</style>\n",
       "<table border=\"1\" class=\"dataframe\">\n",
       "  <thead>\n",
       "    <tr style=\"text-align: right;\">\n",
       "      <th></th>\n",
       "      <th>0</th>\n",
       "      <th>1</th>\n",
       "      <th>2</th>\n",
       "      <th>3</th>\n",
       "      <th>4</th>\n",
       "      <th>5</th>\n",
       "      <th>6</th>\n",
       "      <th>7</th>\n",
       "      <th>8</th>\n",
       "      <th>9</th>\n",
       "      <th>10</th>\n",
       "      <th>11</th>\n",
       "      <th>12</th>\n",
       "      <th>PRICE</th>\n",
       "    </tr>\n",
       "  </thead>\n",
       "  <tbody>\n",
       "    <tr>\n",
       "      <th>0</th>\n",
       "      <td>0.00632</td>\n",
       "      <td>18.0</td>\n",
       "      <td>2.31</td>\n",
       "      <td>0.0</td>\n",
       "      <td>0.538</td>\n",
       "      <td>6.575</td>\n",
       "      <td>65.2</td>\n",
       "      <td>4.0900</td>\n",
       "      <td>1.0</td>\n",
       "      <td>296.0</td>\n",
       "      <td>15.3</td>\n",
       "      <td>396.90</td>\n",
       "      <td>4.98</td>\n",
       "      <td>24.0</td>\n",
       "    </tr>\n",
       "    <tr>\n",
       "      <th>1</th>\n",
       "      <td>0.02731</td>\n",
       "      <td>0.0</td>\n",
       "      <td>7.07</td>\n",
       "      <td>0.0</td>\n",
       "      <td>0.469</td>\n",
       "      <td>6.421</td>\n",
       "      <td>78.9</td>\n",
       "      <td>4.9671</td>\n",
       "      <td>2.0</td>\n",
       "      <td>242.0</td>\n",
       "      <td>17.8</td>\n",
       "      <td>396.90</td>\n",
       "      <td>9.14</td>\n",
       "      <td>21.6</td>\n",
       "    </tr>\n",
       "    <tr>\n",
       "      <th>2</th>\n",
       "      <td>0.02729</td>\n",
       "      <td>0.0</td>\n",
       "      <td>7.07</td>\n",
       "      <td>0.0</td>\n",
       "      <td>0.469</td>\n",
       "      <td>7.185</td>\n",
       "      <td>61.1</td>\n",
       "      <td>4.9671</td>\n",
       "      <td>2.0</td>\n",
       "      <td>242.0</td>\n",
       "      <td>17.8</td>\n",
       "      <td>392.83</td>\n",
       "      <td>4.03</td>\n",
       "      <td>34.7</td>\n",
       "    </tr>\n",
       "    <tr>\n",
       "      <th>3</th>\n",
       "      <td>0.03237</td>\n",
       "      <td>0.0</td>\n",
       "      <td>2.18</td>\n",
       "      <td>0.0</td>\n",
       "      <td>0.458</td>\n",
       "      <td>6.998</td>\n",
       "      <td>45.8</td>\n",
       "      <td>6.0622</td>\n",
       "      <td>3.0</td>\n",
       "      <td>222.0</td>\n",
       "      <td>18.7</td>\n",
       "      <td>394.63</td>\n",
       "      <td>2.94</td>\n",
       "      <td>33.4</td>\n",
       "    </tr>\n",
       "    <tr>\n",
       "      <th>4</th>\n",
       "      <td>0.06905</td>\n",
       "      <td>0.0</td>\n",
       "      <td>2.18</td>\n",
       "      <td>0.0</td>\n",
       "      <td>0.458</td>\n",
       "      <td>7.147</td>\n",
       "      <td>54.2</td>\n",
       "      <td>6.0622</td>\n",
       "      <td>3.0</td>\n",
       "      <td>222.0</td>\n",
       "      <td>18.7</td>\n",
       "      <td>396.90</td>\n",
       "      <td>5.33</td>\n",
       "      <td>36.2</td>\n",
       "    </tr>\n",
       "  </tbody>\n",
       "</table>\n",
       "</div>"
      ],
      "text/plain": [
       "         0     1     2    3      4      5     6       7    8      9    10  \\\n",
       "0  0.00632  18.0  2.31  0.0  0.538  6.575  65.2  4.0900  1.0  296.0  15.3   \n",
       "1  0.02731   0.0  7.07  0.0  0.469  6.421  78.9  4.9671  2.0  242.0  17.8   \n",
       "2  0.02729   0.0  7.07  0.0  0.469  7.185  61.1  4.9671  2.0  242.0  17.8   \n",
       "3  0.03237   0.0  2.18  0.0  0.458  6.998  45.8  6.0622  3.0  222.0  18.7   \n",
       "4  0.06905   0.0  2.18  0.0  0.458  7.147  54.2  6.0622  3.0  222.0  18.7   \n",
       "\n",
       "       11    12  PRICE  \n",
       "0  396.90  4.98   24.0  \n",
       "1  396.90  9.14   21.6  \n",
       "2  392.83  4.03   34.7  \n",
       "3  394.63  2.94   33.4  \n",
       "4  396.90  5.33   36.2  "
      ]
     },
     "execution_count": 81,
     "metadata": {},
     "output_type": "execute_result"
    }
   ],
   "source": [
    "#some in tuition\n",
    "df['PRICE'] = boston.target\n",
    "df.head()"
   ]
  },
  {
   "cell_type": "code",
   "execution_count": 82,
   "metadata": {},
   "outputs": [],
   "source": [
    "X = df.drop('PRICE', axis=1)\n",
    "Y = df['PRICE']"
   ]
  },
  {
   "cell_type": "code",
   "execution_count": 83,
   "metadata": {},
   "outputs": [],
   "source": [
    "X = X.as_matrix()\n",
    "Y = Y.as_matrix()"
   ]
  },
  {
   "cell_type": "code",
   "execution_count": 84,
   "metadata": {},
   "outputs": [],
   "source": [
    "from sklearn.model_selection import train_test_split"
   ]
  },
  {
   "cell_type": "code",
   "execution_count": 85,
   "metadata": {},
   "outputs": [
    {
     "name": "stdout",
     "output_type": "stream",
     "text": [
      "(506, 14)\n",
      "(339, 13)\n",
      "(167, 13)\n"
     ]
    }
   ],
   "source": [
    "X_train, X_test, y_train, y_test = train_test_split(X, Y, test_size=0.33, random_state=10)\n",
    "print(df.shape)\n",
    "print(X_train.shape)\n",
    "print(X_test.shape)"
   ]
  },
  {
   "cell_type": "code",
   "execution_count": 86,
   "metadata": {},
   "outputs": [],
   "source": [
    "from sklearn.preprocessing import StandardScaler"
   ]
  },
  {
   "cell_type": "code",
   "execution_count": 87,
   "metadata": {
    "scrolled": true
   },
   "outputs": [],
   "source": [
    "sc = StandardScaler()\n",
    "X_train = sc.fit_transform(X_train)\n",
    "X_test = sc.transform(X_test)"
   ]
  },
  {
   "cell_type": "code",
   "execution_count": null,
   "metadata": {},
   "outputs": [],
   "source": []
  },
  {
   "cell_type": "markdown",
   "metadata": {},
   "source": [
    "# Simple Linear Regression"
   ]
  },
  {
   "cell_type": "code",
   "execution_count": 88,
   "metadata": {},
   "outputs": [],
   "source": [
    "from sklearn.linear_model import LinearRegression"
   ]
  },
  {
   "cell_type": "code",
   "execution_count": 89,
   "metadata": {},
   "outputs": [],
   "source": [
    "lr = LinearRegression()\n",
    "lr.fit(X_train,y_train)\n",
    "y_pred = lr.predict(X_test)"
   ]
  },
  {
   "cell_type": "code",
   "execution_count": null,
   "metadata": {},
   "outputs": [],
   "source": []
  },
  {
   "cell_type": "code",
   "execution_count": 90,
   "metadata": {},
   "outputs": [],
   "source": [
    "import matplotlib.pyplot as plt"
   ]
  },
  {
   "cell_type": "code",
   "execution_count": 91,
   "metadata": {
    "scrolled": true
   },
   "outputs": [
    {
     "data": {
      "text/plain": [
       "Text(0.5,1,'Prices vs Predicted prices: $Y_i$ vs $\\\\hat{Y}_i$')"
      ]
     },
     "execution_count": 91,
     "metadata": {},
     "output_type": "execute_result"
    },
    {
     "data": {
      "image/png": "[encoded data removed]",
      "text/plain": [
       "<matplotlib.figure.Figure at 0x29741b46be0>"
      ]
     },
     "metadata": {},
     "output_type": "display_data"
    }
   ],
   "source": [
    "plt.scatter(y_test, y_pred)\n",
    "plt.xlabel(\"Prices: $Y_i$\")\n",
    "plt.ylabel(\"Predicted prices: $\\hat{Y}_i$\")\n",
    "plt.title(\"Prices vs Predicted prices: $Y_i$ vs $\\hat{Y}_i$\")"
   ]
  },
  {
   "cell_type": "code",
   "execution_count": null,
   "metadata": {},
   "outputs": [],
   "source": []
  },
  {
   "cell_type": "code",
   "execution_count": 92,
   "metadata": {},
   "outputs": [],
   "source": [
    "from sklearn.metrics import mean_squared_error"
   ]
  },
  {
   "cell_type": "code",
   "execution_count": 93,
   "metadata": {},
   "outputs": [
    {
     "name": "stdout",
     "output_type": "stream",
     "text": [
      "mean squared error = 27.131691921497975\n"
     ]
    }
   ],
   "source": [
    "MSE_lr=mean_squared_error(y_test,y_pred)\n",
    "print('mean squared error =',MSE_lr)"
   ]
  },
  {
   "cell_type": "markdown",
   "metadata": {},
   "source": [
    "# Manual SGD Implementation"
   ]
  },
  {
   "cell_type": "code",
   "execution_count": 94,
   "metadata": {},
   "outputs": [],
   "source": [
    "df_train=pd.DataFrame(X_train)\n",
    "df_train.head()\n",
    "\n",
    "df_train['PRICE'] = y_train"
   ]
  },
  {
   "cell_type": "code",
   "execution_count": 95,
   "metadata": {
    "scrolled": true
   },
   "outputs": [
    {
     "data": {
      "text/html": [
       "<div>\n",
       "<style scoped>\n",
       "    .dataframe tbody tr th:only-of-type {\n",
       "        vertical-align: middle;\n",
       "    }\n",
       "\n",
       "    .dataframe tbody tr th {\n",
       "        vertical-align: top;\n",
       "    }\n",
       "\n",
       "    .dataframe thead th {\n",
       "        text-align: right;\n",
       "    }\n",
       "</style>\n",
       "<table border=\"1\" class=\"dataframe\">\n",
       "  <thead>\n",
       "    <tr style=\"text-align: right;\">\n",
       "      <th></th>\n",
       "      <th>0</th>\n",
       "      <th>1</th>\n",
       "      <th>2</th>\n",
       "      <th>3</th>\n",
       "      <th>4</th>\n",
       "      <th>5</th>\n",
       "      <th>6</th>\n",
       "      <th>7</th>\n",
       "      <th>8</th>\n",
       "      <th>9</th>\n",
       "      <th>10</th>\n",
       "      <th>11</th>\n",
       "      <th>12</th>\n",
       "      <th>PRICE</th>\n",
       "    </tr>\n",
       "  </thead>\n",
       "  <tbody>\n",
       "    <tr>\n",
       "      <th>0</th>\n",
       "      <td>-0.132968</td>\n",
       "      <td>-0.479280</td>\n",
       "      <td>1.167876</td>\n",
       "      <td>-0.250392</td>\n",
       "      <td>2.749511</td>\n",
       "      <td>-1.992829</td>\n",
       "      <td>0.964187</td>\n",
       "      <td>-1.103664</td>\n",
       "      <td>-0.540043</td>\n",
       "      <td>-0.058172</td>\n",
       "      <td>-1.777315</td>\n",
       "      <td>0.392614</td>\n",
       "      <td>2.365979</td>\n",
       "      <td>14.6</td>\n",
       "    </tr>\n",
       "    <tr>\n",
       "      <th>1</th>\n",
       "      <td>-0.414599</td>\n",
       "      <td>-0.479280</td>\n",
       "      <td>-1.180433</td>\n",
       "      <td>-0.250392</td>\n",
       "      <td>-0.830671</td>\n",
       "      <td>-0.165953</td>\n",
       "      <td>-1.294382</td>\n",
       "      <td>0.966408</td>\n",
       "      <td>-0.653052</td>\n",
       "      <td>0.098893</td>\n",
       "      <td>-0.759875</td>\n",
       "      <td>0.147219</td>\n",
       "      <td>-0.541158</td>\n",
       "      <td>19.8</td>\n",
       "    </tr>\n",
       "    <tr>\n",
       "      <th>2</th>\n",
       "      <td>1.317514</td>\n",
       "      <td>-0.479280</td>\n",
       "      <td>0.955177</td>\n",
       "      <td>-0.250392</td>\n",
       "      <td>1.259946</td>\n",
       "      <td>-2.061824</td>\n",
       "      <td>1.117129</td>\n",
       "      <td>-1.043290</td>\n",
       "      <td>1.607129</td>\n",
       "      <td>1.471764</td>\n",
       "      <td>0.766286</td>\n",
       "      <td>0.193350</td>\n",
       "      <td>2.521007</td>\n",
       "      <td>10.2</td>\n",
       "    </tr>\n",
       "    <tr>\n",
       "      <th>3</th>\n",
       "      <td>-0.410113</td>\n",
       "      <td>0.752065</td>\n",
       "      <td>-0.937554</td>\n",
       "      <td>-0.250392</td>\n",
       "      <td>-1.109420</td>\n",
       "      <td>0.339512</td>\n",
       "      <td>-1.781664</td>\n",
       "      <td>1.114787</td>\n",
       "      <td>-0.427034</td>\n",
       "      <td>-0.657349</td>\n",
       "      <td>-0.898616</td>\n",
       "      <td>0.262175</td>\n",
       "      <td>-0.929440</td>\n",
       "      <td>23.7</td>\n",
       "    </tr>\n",
       "    <tr>\n",
       "      <th>4</th>\n",
       "      <td>-0.393181</td>\n",
       "      <td>-0.479280</td>\n",
       "      <td>-0.207480</td>\n",
       "      <td>-0.250392</td>\n",
       "      <td>-0.072822</td>\n",
       "      <td>-0.243948</td>\n",
       "      <td>0.953516</td>\n",
       "      <td>-0.593652</td>\n",
       "      <td>-0.427034</td>\n",
       "      <td>0.110528</td>\n",
       "      <td>-0.343649</td>\n",
       "      <td>0.447653</td>\n",
       "      <td>0.596665</td>\n",
       "      <td>18.7</td>\n",
       "    </tr>\n",
       "  </tbody>\n",
       "</table>\n",
       "</div>"
      ],
      "text/plain": [
       "          0         1         2         3         4         5         6  \\\n",
       "0 -0.132968 -0.479280  1.167876 -0.250392  2.749511 -1.992829  0.964187   \n",
       "1 -0.414599 -0.479280 -1.180433 -0.250392 -0.830671 -0.165953 -1.294382   \n",
       "2  1.317514 -0.479280  0.955177 -0.250392  1.259946 -2.061824  1.117129   \n",
       "3 -0.410113  0.752065 -0.937554 -0.250392 -1.109420  0.339512 -1.781664   \n",
       "4 -0.393181 -0.479280 -0.207480 -0.250392 -0.072822 -0.243948  0.953516   \n",
       "\n",
       "          7         8         9        10        11        12  PRICE  \n",
       "0 -1.103664 -0.540043 -0.058172 -1.777315  0.392614  2.365979   14.6  \n",
       "1  0.966408 -0.653052  0.098893 -0.759875  0.147219 -0.541158   19.8  \n",
       "2 -1.043290  1.607129  1.471764  0.766286  0.193350  2.521007   10.2  \n",
       "3  1.114787 -0.427034 -0.657349 -0.898616  0.262175 -0.929440   23.7  \n",
       "4 -0.593652 -0.427034  0.110528 -0.343649  0.447653  0.596665   18.7  "
      ]
     },
     "execution_count": 95,
     "metadata": {},
     "output_type": "execute_result"
    }
   ],
   "source": [
    "df_train.head()"
   ]
  },
  {
   "cell_type": "code",
   "execution_count": 96,
   "metadata": {},
   "outputs": [],
   "source": [
    "import numpy as np"
   ]
  },
  {
   "cell_type": "code",
   "execution_count": 97,
   "metadata": {},
   "outputs": [
    {
     "name": "stdout",
     "output_type": "stream",
     "text": [
      "[[-1.22316265  1.45854475 -0.31113648  0.53548919 -1.6480404   2.75140904\n",
      "   0.19147217 -2.99902462  1.81214407 -1.16502461 -1.64210997  1.27360391\n",
      "  -3.72097005]]\n",
      "[22.06173027]\n"
     ]
    }
   ],
   "source": [
    "#SGD implementation for linear regression\n",
    "#function having parameter X_train,y_train,no of iteration,learning rate r\n",
    "#intialising no of iteration=100,learning rate =0.01\n",
    "#batch size=25\n",
    "\n",
    "\n",
    "\n",
    "W,B,iteration,lr_rate,k=np.zeros(shape=(1,13)),0,750,0.01,25 #intialise W and B to zero\n",
    "\n",
    "while iteration>=0:\n",
    "    w,b,temp_vectors,temp_intercept=W,B,np.zeros(shape=(1,13)),0\n",
    "    data=df_train.sample(25) #sampling random k=batch size=25 data\n",
    "    x=np.array(data.drop('PRICE',axis=1))\n",
    "    y=np.array(data['PRICE'])\n",
    "    \n",
    "    for i in range(k):\n",
    "        temp_vectors+=(-2/k)*x[i]*(y[i]-(np.dot(w,x[i])+b))#partial differentiation wrt w dl/dw=1/k(-2x)*(y-wTx-b)\n",
    "        temp_intercept+=(-2/k)*(y[i]-(np.dot(w,x[i])+b))#partial differentiation wrt b dl/db=1/k(-2)*(y-wTx-b)\n",
    "        \n",
    "    W=(w-lr_rate*(temp_vectors))\n",
    "    B=(b-lr_rate*(temp_intercept))\n",
    "    \n",
    "    iteration-=1\n",
    "    \n",
    "    \n",
    "print(W)\n",
    "print(B)\n",
    "        \n"
   ]
  },
  {
   "cell_type": "code",
   "execution_count": 98,
   "metadata": {},
   "outputs": [
    {
     "name": "stdout",
     "output_type": "stream",
     "text": [
      "[30.81969934831384, 32.519146990176836, 31.120438577637202, 24.02519098856819, 18.082340409349666, 16.083923445041698, 36.47003695987674, 14.692834566047624, 25.08750383328751, 37.82044161473875, 21.566723401387186, 31.52565683042885, 27.37178066125316, 33.9910191179699, 34.540927525884484, 41.40029464836316, 24.63290864705948, 22.303394971336157, 25.24838941820923, 21.85823284571413, 32.766816985428214, 17.711372044482577, 25.615543540967266, 25.18831610887063, 33.703288560539214, 20.111138401206652, 19.43083386562412, 16.836896475712624, 39.47960418711196, -1.0893299094914575, 33.276059500578334, 32.235733249021095, 26.81934026101841, 23.920910107580962, 20.558310170893513, 19.572826863313477, 3.282674447773534, 35.424711566615215, 26.746991319721513, 27.67049054643539, 35.12302724181785, 29.519311462025755, 18.240392252299035, 31.890854911799174, 17.710683652425782, 29.061598022945567, 19.26827628879575, 21.336626012385405, 38.502699688765745, 16.41566718533029, 24.014017986588115, 19.494509190911174, 23.902812157421174, 35.596968596691994, 27.02633764345074, 34.780557651433654, 20.9851472950747, 19.610350768374605, 17.647600765566303, 25.179000247785826, 20.31858887746145, 23.769391963034042, 41.490996784976836, 43.76051629591353, 30.417187055172654, 17.260057574502806, 23.973103068136087, 1.722120661242169, 30.968491229209235, 30.827972329716545, 18.29157916806438, 27.447979486505417, 19.425898791234847, 25.199461185410044, 25.649050144915126, 9.93386558465741, 40.18753864263836, 7.4294729742345655, 18.075423970778445, 31.38002062417848, 22.665492582495162, 22.282343416579078, 20.20835075592801, 28.806861220494977, 31.247181986075965, 28.598864382809143, 26.414919646848958, 32.54633305494622, 22.254189726396884, -7.635905038478736, 21.66368899554084, 19.459856156709197, 24.995484603195532, 23.69919126454934, 18.84561957612253, 18.948113794501015, 27.587803202274536, 22.65656891891202, 26.177066550054082, 23.708576038810012, 24.027947059939606, 19.418694961377245, 20.88584119363461, 8.631736695404522, 13.806498637946884, 21.213570609420145, 22.645228439865043, 15.404269776417784, 28.91978231440927, 16.37903377519827, 15.19541273751894, 22.335106799843842, 27.160160377161116, 29.457225540119452, 23.797378727692983, 18.242810220229167, 16.161635859237716, 17.566167226003024, 14.903556680086693, 20.870844974192256, 34.37661557373464, 31.157531918780357, 20.939826238178792, 14.04137161854328, 16.098890531529726, 29.0059225490638, 12.920892683278522, 21.556270208580326, 24.379590804822246, 32.76498493788194, 32.9173809527737, 5.475919103173798, 35.78179023849117, 25.345745802283272, 17.48746084926057, 24.68603089402427, 28.531781514794254, 35.549558312812295, 5.020005763712003, 1.864026120067816, 28.82127725301784, 12.183645185337468, 18.283568185228358, 19.320837531210337, 4.682365087358637, 13.079736876274296, 37.275702071305275, 26.508457515746677, 22.94484634110787, 26.18625415256275, 11.224604396048713, 20.31856465165721, 36.591866870484594, 21.007455665779336, 10.568133691643965, 17.141863617132962, 24.70135978104739, 9.434602173817211, 14.567948189194457, 26.645485033444047, 10.763253596842475, 11.260119939626414, 19.103382904071914, 19.66949368175265, 32.843415399948675, 22.919505899916153, 25.764655563849683]\n"
     ]
    }
   ],
   "source": [
    "y_pred_sgd = []\n",
    "for i in range(len(X_test)):\n",
    "    value = np.dot(W, X_test[i]) + B\n",
    "    y_pred_sgd.append(np.asscalar(value))\n",
    "print(y_pred_sgd)"
   ]
  },
  {
   "cell_type": "code",
   "execution_count": 99,
   "metadata": {},
   "outputs": [
    {
     "name": "stdout",
     "output_type": "stream",
     "text": [
      "mean squared error = 26.95623954024052\n"
     ]
    }
   ],
   "source": [
    "MSE_sgd=mean_squared_error(y_test,y_pred_sgd)\n",
    "print('mean squared error =',MSE_sgd)"
   ]
  },
  {
   "cell_type": "code",
   "execution_count": 100,
   "metadata": {},
   "outputs": [
    {
     "data": {
      "text/plain": [
       "Text(0.5,1,'Prices vs Predicted prices: $Y_i$ vs $\\\\hat{Y}_i$')"
      ]
     },
     "execution_count": 100,
     "metadata": {},
     "output_type": "execute_result"
    },
    {
     "data": {
      "image/png": "[encoded data removed]",
      "text/plain": [
       "<matplotlib.figure.Figure at 0x29741632668>"
      ]
     },
     "metadata": {},
     "output_type": "display_data"
    }
   ],
   "source": [
    "plt.scatter(y_test, y_pred_sgd)\n",
    "plt.xlabel(\"Prices: $Y_i$\")\n",
    "plt.ylabel(\"Predicted prices: $\\hat{Y}_i$\")\n",
    "plt.title(\"Prices vs Predicted prices: $Y_i$ vs $\\hat{Y}_i$\")"
   ]
  },
  {
   "cell_type": "code",
   "execution_count": null,
   "metadata": {},
   "outputs": [],
   "source": []
  },
  {
   "cell_type": "markdown",
   "metadata": {},
   "source": [
    "# Sklearn SGD Implementation"
   ]
  },
  {
   "cell_type": "code",
   "execution_count": 101,
   "metadata": {},
   "outputs": [],
   "source": [
    "from sklearn.linear_model import SGDRegressor"
   ]
  },
  {
   "cell_type": "code",
   "execution_count": 102,
   "metadata": {},
   "outputs": [
    {
     "name": "stdout",
     "output_type": "stream",
     "text": [
      "[32.77068625 34.15005304 32.59924645 23.22155666 19.7805226  15.2292462\n",
      " 38.11829931 13.90259586 26.63750095 39.15156923 21.50686809 32.92173407\n",
      " 29.60637161 35.70034305 35.9155153  44.08390678 24.73069531 24.79556284\n",
      " 26.89580462 23.09643961 34.65583447 16.28129898 26.29170281 25.61176134\n",
      " 34.57185104 20.81599748 21.03312003 15.38500291 41.87110763 -1.52238132\n",
      " 35.49562692 33.79964627 27.11597365 24.84312723 19.08516288 19.76823264\n",
      "  1.79814804 36.55201196 27.89552672 29.2287152  35.91029129 31.19157345\n",
      " 16.65821501 33.76772201 19.00357397 29.72968341 17.84104449 20.00453639\n",
      " 41.04670271 16.41243404 25.82156542 17.94943716 25.55146326 36.2818378\n",
      " 27.37697042 37.76556612 21.47665534 18.05360365 18.9842612  23.2475504\n",
      " 19.44231025 24.1995617  42.58168437 46.37847014 31.98164868 16.33412533\n",
      " 24.30738986  0.51384374 33.44780684 29.70873772 16.6458828  28.68827618\n",
      " 17.96913323 24.45370519 25.32370417 10.22629714 41.18796288  5.66194035\n",
      " 18.72926723 32.24480155 24.41694669 21.75006629 21.12346245 30.23494137\n",
      " 32.69784999 28.95366102 27.86990486 33.72697059 22.64188213 -9.27034838\n",
      " 22.0141157  20.3080487  26.44104998 23.92964636 19.72887576 20.32209826\n",
      " 28.56397359 23.50110535 28.28310126 23.60573234 25.3530232  20.13366906\n",
      " 22.3530452   9.21268765 14.07996712 21.16403076 24.86554023 12.91530485\n",
      " 30.06570919 15.32635409 13.11056634 20.89939515 27.52097531 30.81158327\n",
      " 25.00366095 16.40645215 17.25575532 17.7292419  16.82735275 19.50968822\n",
      " 33.44854883 32.42718961 21.20140583 14.97171309 16.16780744 31.04086811\n",
      " 11.97274793 23.6802871  25.21312602 33.7568853  34.96635848  3.11801668\n",
      " 37.40293666 24.8293381  15.68638256 24.82109361 29.85740341 36.87818732\n",
      "  3.44363315 -0.26992251 29.47260243 10.17994424 16.51005669 21.0795625\n",
      "  3.49095389 14.63178091 40.29739312 27.24835499 23.86121382 27.78266539\n",
      "  9.98246341 21.75626604 37.504153   20.126396    9.28727746 16.84876302\n",
      " 25.72200379  8.05588166 15.73860905 26.27094881  9.36931634 10.7129439\n",
      " 17.62996353 18.05203326 34.32589615 23.27943557 26.74061102]\n"
     ]
    }
   ],
   "source": [
    "sgd = SGDRegressor(learning_rate= 'constant', eta0= 0.01,max_iter= 750)\n",
    "sgd.fit(X_train, y_train)\n",
    "pred_sk_sgd = sgd.predict(X_test)\n",
    "print(pred_sk_sgd)"
   ]
  },
  {
   "cell_type": "code",
   "execution_count": 109,
   "metadata": {},
   "outputs": [
    {
     "data": {
      "text/plain": [
       "Text(0.5,1,'Prices vs Predicted prices: $Y_i$ vs $\\\\hat{Y}_i$')"
      ]
     },
     "execution_count": 109,
     "metadata": {},
     "output_type": "execute_result"
    },
    {
     "data": {
      "image/png": "[encoded data removed]",
      "text/plain": [
       "<matplotlib.figure.Figure at 0x2974176f2b0>"
      ]
     },
     "metadata": {},
     "output_type": "display_data"
    }
   ],
   "source": [
    "plt.scatter(y_test, pred_sk_sgd)\n",
    "plt.xlabel(\"Prices: $Y_i$\")\n",
    "plt.ylabel(\"Predicted prices: $\\hat{Y}_i$\")\n",
    "plt.title(\"Prices vs Predicted prices: $Y_i$ vs $\\hat{Y}_i$\")"
   ]
  },
  {
   "cell_type": "code",
   "execution_count": 103,
   "metadata": {},
   "outputs": [
    {
     "name": "stdout",
     "output_type": "stream",
     "text": [
      "mean squared error = 29.154083999660536\n"
     ]
    }
   ],
   "source": [
    "MSE_sk_sgd=mean_squared_error(y_test,pred_sk_sgd)\n",
    "print('mean squared error =',MSE_sk_sgd)"
   ]
  },
  {
   "cell_type": "code",
   "execution_count": null,
   "metadata": {},
   "outputs": [],
   "source": []
  },
  {
   "cell_type": "code",
   "execution_count": 108,
   "metadata": {},
   "outputs": [
    {
     "name": "stdout",
     "output_type": "stream",
     "text": [
      "+----------------------+---------------------------+\n",
      "| Weight vector manual | Weight vector SGD sklearn |\n",
      "+----------------------+---------------------------+\n",
      "| -1.2231626488043312  |    -1.4455319196878949    |\n",
      "|  1.4585447451320268  |     1.6163995283272254    |\n",
      "| -0.31113648200685323 |    -0.3283948664235333    |\n",
      "|  0.5354891881531175  |     0.523801042512286     |\n",
      "| -1.6480404029325941  |    -1.9254437178530492    |\n",
      "|  2.7514090420994393  |     2.454146381726289     |\n",
      "| 0.19147216783624602  |     0.4615542333925869    |\n",
      "| -2.9990246206515927  |    -3.4011793860633692    |\n",
      "|  1.8121440725538447  |     2.355430032152284     |\n",
      "| -1.1650246112608074  |    -2.4498257536025307    |\n",
      "| -1.6421099695656156  |    -2.3702077105650017    |\n",
      "|  1.2736039115519555  |     1.0159864825582632    |\n",
      "|  -3.720970048494882  |     -4.016618372730207    |\n",
      "| -1.2231626488043312  |    -1.4455319196878949    |\n",
      "|  1.4585447451320268  |     1.6163995283272254    |\n",
      "| -0.31113648200685323 |    -0.3283948664235333    |\n",
      "|  0.5354891881531175  |     0.523801042512286     |\n",
      "| -1.6480404029325941  |    -1.9254437178530492    |\n",
      "|  2.7514090420994393  |     2.454146381726289     |\n",
      "| 0.19147216783624602  |     0.4615542333925869    |\n",
      "| -2.9990246206515927  |    -3.4011793860633692    |\n",
      "|  1.8121440725538447  |     2.355430032152284     |\n",
      "| -1.1650246112608074  |    -2.4498257536025307    |\n",
      "| -1.6421099695656156  |    -2.3702077105650017    |\n",
      "|  1.2736039115519555  |     1.0159864825582632    |\n",
      "|  -3.720970048494882  |     -4.016618372730207    |\n",
      "| -1.2231626488043312  |    -1.4455319196878949    |\n",
      "|  1.4585447451320268  |     1.6163995283272254    |\n",
      "| -0.31113648200685323 |    -0.3283948664235333    |\n",
      "|  0.5354891881531175  |     0.523801042512286     |\n",
      "| -1.6480404029325941  |    -1.9254437178530492    |\n",
      "|  2.7514090420994393  |     2.454146381726289     |\n",
      "| 0.19147216783624602  |     0.4615542333925869    |\n",
      "| -2.9990246206515927  |    -3.4011793860633692    |\n",
      "|  1.8121440725538447  |     2.355430032152284     |\n",
      "| -1.1650246112608074  |    -2.4498257536025307    |\n",
      "| -1.6421099695656156  |    -2.3702077105650017    |\n",
      "|  1.2736039115519555  |     1.0159864825582632    |\n",
      "|  -3.720970048494882  |     -4.016618372730207    |\n",
      "+----------------------+---------------------------+\n"
     ]
    }
   ],
   "source": [
    "#Comparison between weights obtained from own implementation and weights obtained from sgd implementation\n",
    "from prettytable import PrettyTable    \n",
    "p = PrettyTable()\n",
    "p.field_names=['Weight vector manual','Weight vector SGD sklearn']\n",
    "weight_sgd=sgd.coef_\n",
    "for i in range(13):\n",
    "    x.add_row([W[0][i],weight_sgd[i]])\n",
    "print(x)    \n"
   ]
  },
  {
   "cell_type": "code",
   "execution_count": 105,
   "metadata": {},
   "outputs": [
    {
     "name": "stdout",
     "output_type": "stream",
     "text": [
      "MSE of Simple Linear Regression =  27.131691921497975\n",
      "--------------------------------------------------\n",
      "MSE of manual implementation =  26.95623954024052\n",
      "--------------------------------------------------\n",
      "MSE of SGD sklearn implementation =  29.154083999660536\n"
     ]
    }
   ],
   "source": [
    "#comparison between MSE of own implementation and SGD sklearn implementation\n",
    "print('MSE of Simple Linear Regression = ',MSE_lr)\n",
    "print('-'*50)\n",
    "print('MSE of manual implementation = ',MSE_sgd)\n",
    "print('-'*50)\n",
    "print('MSE of SGD sklearn implementation = ',MSE_sk_sgd)\n"
   ]
  },
  {
   "cell_type": "code",
   "execution_count": null,
   "metadata": {},
   "outputs": [],
   "source": []
  },
  {
   "cell_type": "code",
   "execution_count": null,
   "metadata": {},
   "outputs": [],
   "source": []
  },
  {
   "cell_type": "code",
   "execution_count": null,
   "metadata": {},
   "outputs": [],
   "source": []
  },
  {
   "cell_type": "code",
   "execution_count": null,
   "metadata": {},
   "outputs": [],
   "source": []
  }
 ],
 "metadata": {
  "kernelspec": {
   "display_name": "Python 3",
   "language": "python",
   "name": "python3"
  },
  "language_info": {
   "codemirror_mode": {
    "name": "ipython",
    "version": 3
   },
   "file_extension": ".py",
   "mimetype": "text/x-python",
   "name": "python",
   "nbconvert_exporter": "python",
   "pygments_lexer": "ipython3",
   "version": "3.6.4"
  }
 },
 "nbformat": 4,
 "nbformat_minor": 2
}
